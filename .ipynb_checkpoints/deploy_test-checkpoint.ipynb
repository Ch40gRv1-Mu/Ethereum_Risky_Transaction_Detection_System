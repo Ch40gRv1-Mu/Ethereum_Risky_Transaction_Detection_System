{
 "cells": [
  {
   "cell_type": "code",
   "execution_count": 180,
   "metadata": {},
   "outputs": [],
   "source": [
    "from solcx import compile_standard, install_solc\n",
    "import json\n",
    "from web3 import Web3\n",
    "import random\n",
    "from hexbytes import HexBytes"
   ]
  },
  {
   "cell_type": "markdown",
   "metadata": {},
   "source": [
    "# Test loading address and private key"
   ]
  },
  {
   "cell_type": "code",
   "execution_count": 181,
   "metadata": {},
   "outputs": [],
   "source": [
    "def decimalToHexString(arrayDecimal):\n",
    "    return '0x'+ ''.join(map(lambda x: \"0\"+hex(x)[2:] if (len(hex(x)[2:])==1) else hex(x)[2:].lower() , arrayDecimal))\n",
    "\n",
    "\n",
    "def loadPrivateKey(address, account_data):\n",
    "    return decimalToHexString(account_data['addresses'][address.lower()]['secretKey']['data'])\n",
    "\n"
   ]
  },
  {
   "cell_type": "code",
   "execution_count": 182,
   "metadata": {},
   "outputs": [],
   "source": [
    "#  listen to port 7545 for ganache\n",
    "\n",
    "w3 = Web3( Web3.HTTPProvider('http://127.0.0.1:8545'))"
   ]
  },
  {
   "cell_type": "code",
   "execution_count": 199,
   "metadata": {},
   "outputs": [
    {
     "name": "stdout",
     "output_type": "stream",
     "text": [
      "0x90F8bf6A479f320ead074411a4B0e7944Ea8c9C1\n"
     ]
    }
   ],
   "source": [
    "# get the first account address\n",
    "print(w3.eth.accounts[0])"
   ]
  },
  {
   "cell_type": "code",
   "execution_count": 200,
   "metadata": {},
   "outputs": [
    {
     "name": "stdout",
     "output_type": "stream",
     "text": [
      "0x4f3edf983ac636a65a842ce7c78d9aa706d3b113bce9c46f30d7d21715b23b1d\n"
     ]
    }
   ],
   "source": [
    "# get the first private key of account 0\n",
    "account_data = open('keys.json')\n",
    "account_data = json.load(account_data)\n",
    "print(loadPrivateKey(w3.eth.accounts[0], account_data))"
   ]
  },
  {
   "cell_type": "code",
   "execution_count": 201,
   "metadata": {},
   "outputs": [
    {
     "name": "stdout",
     "output_type": "stream",
     "text": [
      "b'\\x00'\n"
     ]
    }
   ],
   "source": [
    "print(HexBytes(0))"
   ]
  },
  {
   "cell_type": "markdown",
   "metadata": {},
   "source": [
    "# Test deploying RTDS"
   ]
  },
  {
   "cell_type": "code",
   "execution_count": 202,
   "metadata": {},
   "outputs": [
    {
     "data": {
      "text/plain": [
       "'\\n\\n        struct Account {\\n\\n        address accountAddress;\\n        bool isRegistered;\\n        uint256 currentBalance;\\n        uint256 latestVerifiedBlockNumber;\\n        uint256 latestVerifiedTime;\\n        bytes32 registrationChallenge;\\n        bytes registeredPublicKey;\\n        bytes keyHandle;\\n        // delayed transactions\\n        Transaction[] _delayedTransactions;\\n    }\\n\\n'"
      ]
     },
     "execution_count": 202,
     "metadata": {},
     "output_type": "execute_result"
    }
   ],
   "source": [
    "# Variable \n",
    "numberOfAccounts = 100\n",
    "\n",
    "my_address = \"0x90F8bf6A479f320ead074411a4B0e7944Ea8c9C1\"\n",
    "my_private_key = str(loadPrivateKey(my_address, account_data))\n",
    "\n",
    "successTransactionNumber = 0\n",
    "unSuccessTransactionNumber = 0\n",
    "overallGassFee = 0\n",
    "# https://solveforums.msomimaktaba.com/threads/solved-how-to-pass-a-struct-as-an-argument-in-call-using-web3-py.619080/\n",
    "\n",
    "'''\n",
    "    struct Transaction {\n",
    "        address senderAddress;\n",
    "        address receiverAddress;\n",
    "        uint256 amount;\n",
    "        uint256 transactionTime;\n",
    "        bytes32 transactionChallenge;\n",
    "        bool verified;\n",
    "    }\n",
    "'''\n",
    "\n",
    "'''\n",
    "\n",
    "        struct Account {\n",
    "\n",
    "        address accountAddress;\n",
    "        bool isRegistered;\n",
    "        uint256 currentBalance;\n",
    "        uint256 latestVerifiedBlockNumber;\n",
    "        uint256 latestVerifiedTime;\n",
    "        bytes32 registrationChallenge;\n",
    "        bytes registeredPublicKey;\n",
    "        bytes keyHandle;\n",
    "        // delayed transactions\n",
    "        Transaction[] _delayedTransactions;\n",
    "    }\n",
    "\n",
    "'''\n",
    "#transactionTest = {'senderAddress':w3.eth.accounts[0], 'receiverAddress':w3.eth.accounts[1], 'amount':250, 'transactionTime': 1649505951, 'transactionChallenge':HexBytes(0), 'verified': False};\n",
    "#senderAccount = {'accountAddress':w3.eth.accounts[0], 'isRegistered':True, 'currentBalance':2000000000,  'latestVerifiedBlockNumber':0, 'latestVerifiedTime':1649505949, 'registrationChallenge':HexBytes(0), 'registeredPublicKey': HexBytes(0), 'keyHandle':HexBytes(0), '_delayedTransactions':[]}\n",
    "\n",
    "#receiverAccount = {'accountAddress':w3.eth.accounts[1], 'isRegistered':True, 'currentBalance':2000000000,  'latestVerifiedBlockNumber':0, 'latestVerifiedTime':1649505949, 'registrationChallenge':HexBytes(0), 'registeredPublicKey': HexBytes(0), 'keyHandle':HexBytes(0), '_delayedTransactions':''}"
   ]
  },
  {
   "cell_type": "code",
   "execution_count": 203,
   "metadata": {},
   "outputs": [],
   "source": [
    "with open(\"./RTDS.sol\", \"r\") as file:\n",
    "    riskyTransactionDector = file.read()\n",
    "# Compile the solidity\n",
    "install_solc(\"0.8.7\")\n",
    "\n",
    "\n",
    "compiled_sol = compile_standard(\n",
    "    {\n",
    "        \"language\": \"Solidity\",\n",
    "        \"sources\": {\"RTDS.sol\": {\"content\": riskyTransactionDector}},\n",
    "        \"settings\": {\n",
    "            \"outputSelection\": {\n",
    "                \"*\": {\"*\": [\"abi\", \"metadata\", \"evm.bytecode\", \"evm.sourceMap\"]}\n",
    "            }\n",
    "        },\n",
    "    },allow_paths = \".\",\n",
    "    solc_version=\"0.8.7\",\n",
    ")\n",
    "\n",
    "with open(\"compiled_RTDS.json\", \"w\") as file:\n",
    "    json.dump(compiled_sol, file)\n",
    "\n",
    "# sets chain_id.\n",
    "chain_id = w3.eth.chain_id\n",
    "    \n",
    "# sets bytecode version.\n",
    "bytecode = compiled_sol[\"contracts\"][\"RTDS.sol\"][\"RTDS\"][\"evm\"][\"bytecode\"][\"object\"]\n",
    "\n",
    "# gets abi.\n",
    "abi = compiled_sol[\"contracts\"][\"RTDS.sol\"][\"RTDS\"][\"abi\"]\n",
    "\n",
    "# gets bytecode version.\n",
    "bytecode = compiled_sol[\"contracts\"][\"RTDS.sol\"][\"RTDS\"][\"evm\"][\"bytecode\"][\"object\"]\n",
    "\n",
    "# gets abi.\n",
    "abi = compiled_sol[\"contracts\"][\"RTDS.sol\"][\"RTDS\"][\"abi\"]\n",
    "\n",
    "riskyTransactionDetector = w3.eth.contract(abi=abi, bytecode=bytecode)\n",
    "\n",
    "# gets the latest transaction.\n",
    "nonceList = [0]*numberOfAccounts\n",
    "nonce = w3.eth.getTransactionCount(my_address)\n",
    "\n",
    "\n",
    "# Two ways of interact with the contracts\n",
    "# 1. Call: Simulate making the call and getting a return value\n",
    "# 2. Transact:  actually make a state change\n",
    "\n",
    "successTransactionNumber = 0\n",
    "unSuccessTransactionNumber = 0\n",
    "overallGassFee = 0\n",
    "\n",
    "# 1.  builds a transaction.\n",
    "transaction = riskyTransactionDetector.constructor().buildTransaction(\n",
    "    {\"chainId\": chain_id, \"gasPrice\": w3.eth.gas_price, \"from\": my_address, \"nonce\": nonce})\n",
    "nonce += 1\n",
    "# 2. signs a transaction.\n",
    "signed_txn = w3.eth.account.sign_transaction( transaction, private_key = my_private_key)\n",
    "\n",
    "# 3. sends a transaction.\n",
    "tx_hash = w3.eth.send_raw_transaction(signed_txn.rawTransaction)\n",
    "\n",
    "# 4. waits for the receipt.\n",
    "contract_receipt = w3.eth.wait_for_transaction_receipt(tx_hash)\n",
    "# Working with contracts\n",
    "# 1. Contract addresses\n",
    "# 2. Contract ABI\n",
    "risky_transaction_detector = w3.eth.contract(address = contract_receipt.contractAddress, abi=abi)\n",
    "\n"
   ]
  },
  {
   "cell_type": "markdown",
   "metadata": {},
   "source": [
    "# Unit Test"
   ]
  },
  {
   "cell_type": "markdown",
   "metadata": {},
   "source": [
    "## Test view functions"
   ]
  },
  {
   "cell_type": "markdown",
   "metadata": {},
   "source": [
    "### Tests getMaximumUnauthenticatedBlockNumber()"
   ]
  },
  {
   "cell_type": "code",
   "execution_count": 204,
   "metadata": {},
   "outputs": [
    {
     "name": "stdout",
     "output_type": "stream",
     "text": [
      "maximum unauthenticated block number:  128\n"
     ]
    }
   ],
   "source": [
    "print(\"maximum unauthenticated block number: \",risky_transaction_detector.functions.getMaximumUnauthenticatedBlockNumber().call())\n",
    "\n"
   ]
  },
  {
   "cell_type": "markdown",
   "metadata": {},
   "source": [
    "### Tests getMaximumUnauthenticatedTime()"
   ]
  },
  {
   "cell_type": "code",
   "execution_count": 205,
   "metadata": {},
   "outputs": [
    {
     "name": "stdout",
     "output_type": "stream",
     "text": [
      "maximum unauthenticated time interval:  86400\n"
     ]
    }
   ],
   "source": [
    "print(\"maximum unauthenticated time interval: \",risky_transaction_detector.functions.getMaximumUnauthenticatedTime().call())"
   ]
  },
  {
   "cell_type": "markdown",
   "metadata": {},
   "source": [
    "### Tests getMaximumAllowedRatio()"
   ]
  },
  {
   "cell_type": "code",
   "execution_count": 206,
   "metadata": {},
   "outputs": [
    {
     "name": "stdout",
     "output_type": "stream",
     "text": [
      "maximum allowed ratio [10, 1000]\n"
     ]
    }
   ],
   "source": [
    "print(\"maximum allowed ratio\", risky_transaction_detector.functions.getMaximumAllowedRatio().call())"
   ]
  },
  {
   "cell_type": "markdown",
   "metadata": {},
   "source": [
    "### Test maximumUnauthenticatedIntervalLimit()"
   ]
  },
  {
   "cell_type": "code",
   "execution_count": 207,
   "metadata": {},
   "outputs": [
    {
     "name": "stdout",
     "output_type": "stream",
     "text": [
      "maximum unauthenticated interval limit: False\n"
     ]
    }
   ],
   "source": [
    "senderAccount = [w3.eth.accounts[0], True,2000000000, 0, 1649505949,HexBytes(0), HexBytes(0),HexBytes(0), []]\n",
    "print(\"maximum unauthenticated interval limit:\", risky_transaction_detector.functions.maximumUnauthenticatedIntervalLimit(senderAccount).call())"
   ]
  },
  {
   "cell_type": "markdown",
   "metadata": {},
   "source": [
    "### Tests checkSecurity()"
   ]
  },
  {
   "cell_type": "code",
   "execution_count": 208,
   "metadata": {},
   "outputs": [
    {
     "name": "stdout",
     "output_type": "stream",
     "text": [
      "False\n"
     ]
    }
   ],
   "source": [
    "#transactionTest = {'senderAddress':w3.eth.accounts[0], 'receiverAddress':w3.eth.accounts[1], 'amount':250, 'transactionTime': 1649505951, 'transactionChallenge':HexBytes(0), 'verified': False};\n",
    "#senderAccount = {'accountAddress':w3.eth.accounts[0], 'isRegistered':True, 'currentBalance':2000000000,  'latestVerifiedBlockNumber':0, 'latestVerifiedTime':1649505949, 'registrationChallenge':HexBytes(0), 'registeredPublicKey': HexBytes(0), 'keyHandle':HexBytes(0), '_delayedTransactions':[]}\n",
    "#receiverAccount = {'accountAddress':w3.eth.accounts[1], 'isRegistered':True, 'currentBalance':2000000000,  'latestVerifiedBlockNumber':0, 'latestVerifiedTime':1649505949, 'registrationChallenge':HexBytes(0), 'registeredPublicKey': HexBytes(0), 'keyHandle':HexBytes(0), '_delayedTransactions':''}\n",
    "transactionTest = [w3.eth.accounts[0], w3.eth.accounts[1], 250,  1649505951, HexBytes(0), False];\n",
    "senderAccount = [w3.eth.accounts[0], True,2000000000, 0, 1649505949,HexBytes(0), HexBytes(0),HexBytes(0), []]\n",
    "receiverAccount  = [w3.eth.accounts[1], True,2000000000, 0, 1649505949,HexBytes(0), HexBytes(0),HexBytes(0), []]\n",
    "print(risky_transaction_detector.functions.checkSecurity(senderAccount, receiverAccount, transactionTest).call())"
   ]
  },
  {
   "cell_type": "markdown",
   "metadata": {},
   "source": [
    "### Tests setMaximumUnauthenticatedTime(uint256 newMaximumUnauthencatedTime)"
   ]
  },
  {
   "cell_type": "code",
   "execution_count": 209,
   "metadata": {},
   "outputs": [
    {
     "name": "stdout",
     "output_type": "stream",
     "text": [
      "maximum unauthenticated time interval before updating:  86400\n"
     ]
    },
    {
     "ename": "ValueError",
     "evalue": "{'message': 'VM Exception while processing transaction: revert', 'code': -32000, 'data': {'0x7f9cd86e031123116c1ced9d8d148c2f060f14657ea1735e65d1291d5034c969': {'error': 'revert', 'program_counter': 733, 'return': '0x'}, 'stack': 'c: VM Exception while processing transaction: revert\\n    at Function.c.fromResults (/usr/local/lib/node_modules/ganache-cli/build/ganache-core.node.cli.js:4:194812)\\n    at w.processBlock (/usr/local/lib/node_modules/ganache-cli/build/ganache-core.node.cli.js:42:53376)\\n    at runMicrotasks (<anonymous>)\\n    at processTicksAndRejections (internal/process/task_queues.js:93:5)', 'name': 'c'}}",
     "output_type": "error",
     "traceback": [
      "\u001b[0;31m---------------------------------------------------------------------------\u001b[0m",
      "\u001b[0;31mValueError\u001b[0m                                Traceback (most recent call last)",
      "\u001b[0;32m<ipython-input-209-2e3b697abdff>\u001b[0m in \u001b[0;36m<module>\u001b[0;34m\u001b[0m\n\u001b[1;32m      4\u001b[0m \u001b[0mnonce\u001b[0m \u001b[0;34m+=\u001b[0m \u001b[0;36m1\u001b[0m\u001b[0;34m\u001b[0m\u001b[0;34m\u001b[0m\u001b[0m\n\u001b[1;32m      5\u001b[0m \u001b[0msigned_txn\u001b[0m \u001b[0;34m=\u001b[0m \u001b[0mw3\u001b[0m\u001b[0;34m.\u001b[0m\u001b[0meth\u001b[0m\u001b[0;34m.\u001b[0m\u001b[0maccount\u001b[0m\u001b[0;34m.\u001b[0m\u001b[0msign_transaction\u001b[0m\u001b[0;34m(\u001b[0m\u001b[0mtransaction\u001b[0m\u001b[0;34m,\u001b[0m \u001b[0mprivate_key\u001b[0m\u001b[0;34m=\u001b[0m\u001b[0mloadPrivateKey\u001b[0m\u001b[0;34m(\u001b[0m\u001b[0mw3\u001b[0m\u001b[0;34m.\u001b[0m\u001b[0meth\u001b[0m\u001b[0;34m.\u001b[0m\u001b[0maccounts\u001b[0m\u001b[0;34m[\u001b[0m\u001b[0;36m0\u001b[0m\u001b[0;34m]\u001b[0m\u001b[0;34m,\u001b[0m \u001b[0maccount_data\u001b[0m\u001b[0;34m)\u001b[0m\u001b[0;34m)\u001b[0m\u001b[0;34m\u001b[0m\u001b[0;34m\u001b[0m\u001b[0m\n\u001b[0;32m----> 6\u001b[0;31m \u001b[0mtx_hash\u001b[0m \u001b[0;34m=\u001b[0m \u001b[0mw3\u001b[0m\u001b[0;34m.\u001b[0m\u001b[0meth\u001b[0m\u001b[0;34m.\u001b[0m\u001b[0msend_raw_transaction\u001b[0m\u001b[0;34m(\u001b[0m\u001b[0msigned_txn\u001b[0m\u001b[0;34m.\u001b[0m\u001b[0mrawTransaction\u001b[0m\u001b[0;34m)\u001b[0m\u001b[0;34m\u001b[0m\u001b[0;34m\u001b[0m\u001b[0m\n\u001b[0m\u001b[1;32m      7\u001b[0m \u001b[0mtx_receipt\u001b[0m \u001b[0;34m=\u001b[0m \u001b[0mw3\u001b[0m\u001b[0;34m.\u001b[0m\u001b[0meth\u001b[0m\u001b[0;34m.\u001b[0m\u001b[0mwait_for_transaction_receipt\u001b[0m\u001b[0;34m(\u001b[0m\u001b[0mtx_hash\u001b[0m\u001b[0;34m)\u001b[0m\u001b[0;34m\u001b[0m\u001b[0;34m\u001b[0m\u001b[0m\n\u001b[1;32m      8\u001b[0m \u001b[0;34m\u001b[0m\u001b[0m\n",
      "\u001b[0;32m~/opt/anaconda3/lib/python3.7/site-packages/web3/eth.py\u001b[0m in \u001b[0;36msend_raw_transaction\u001b[0;34m(self, transaction)\u001b[0m\n\u001b[1;32m    720\u001b[0m \u001b[0;34m\u001b[0m\u001b[0m\n\u001b[1;32m    721\u001b[0m     \u001b[0;32mdef\u001b[0m \u001b[0msend_raw_transaction\u001b[0m\u001b[0;34m(\u001b[0m\u001b[0mself\u001b[0m\u001b[0;34m,\u001b[0m \u001b[0mtransaction\u001b[0m\u001b[0;34m:\u001b[0m \u001b[0mUnion\u001b[0m\u001b[0;34m[\u001b[0m\u001b[0mHexStr\u001b[0m\u001b[0;34m,\u001b[0m \u001b[0mbytes\u001b[0m\u001b[0;34m]\u001b[0m\u001b[0;34m)\u001b[0m \u001b[0;34m->\u001b[0m \u001b[0mHexBytes\u001b[0m\u001b[0;34m:\u001b[0m\u001b[0;34m\u001b[0m\u001b[0;34m\u001b[0m\u001b[0m\n\u001b[0;32m--> 722\u001b[0;31m         \u001b[0;32mreturn\u001b[0m \u001b[0mself\u001b[0m\u001b[0;34m.\u001b[0m\u001b[0m_send_raw_transaction\u001b[0m\u001b[0;34m(\u001b[0m\u001b[0mtransaction\u001b[0m\u001b[0;34m)\u001b[0m\u001b[0;34m\u001b[0m\u001b[0;34m\u001b[0m\u001b[0m\n\u001b[0m\u001b[1;32m    723\u001b[0m \u001b[0;34m\u001b[0m\u001b[0m\n\u001b[1;32m    724\u001b[0m     def sign_munger(\n",
      "\u001b[0;32m~/opt/anaconda3/lib/python3.7/site-packages/web3/module.py\u001b[0m in \u001b[0;36mcaller\u001b[0;34m(*args, **kwargs)\u001b[0m\n\u001b[1;32m     58\u001b[0m                                              \u001b[0mparams\u001b[0m\u001b[0;34m,\u001b[0m\u001b[0;34m\u001b[0m\u001b[0;34m\u001b[0m\u001b[0m\n\u001b[1;32m     59\u001b[0m                                              \u001b[0merror_formatters\u001b[0m\u001b[0;34m,\u001b[0m\u001b[0;34m\u001b[0m\u001b[0;34m\u001b[0m\u001b[0m\n\u001b[0;32m---> 60\u001b[0;31m                                              null_result_formatters)\n\u001b[0m\u001b[1;32m     61\u001b[0m         \u001b[0;32mreturn\u001b[0m \u001b[0mapply_result_formatters\u001b[0m\u001b[0;34m(\u001b[0m\u001b[0mresult_formatters\u001b[0m\u001b[0;34m,\u001b[0m \u001b[0mresult\u001b[0m\u001b[0;34m)\u001b[0m\u001b[0;34m\u001b[0m\u001b[0;34m\u001b[0m\u001b[0m\n\u001b[1;32m     62\u001b[0m     \u001b[0;32mreturn\u001b[0m \u001b[0mcaller\u001b[0m\u001b[0;34m\u001b[0m\u001b[0;34m\u001b[0m\u001b[0m\n",
      "\u001b[0;32m~/opt/anaconda3/lib/python3.7/site-packages/web3/manager.py\u001b[0m in \u001b[0;36mrequest_blocking\u001b[0;34m(self, method, params, error_formatters, null_result_formatters)\u001b[0m\n\u001b[1;32m    199\u001b[0m                                        \u001b[0mparams\u001b[0m\u001b[0;34m,\u001b[0m\u001b[0;34m\u001b[0m\u001b[0;34m\u001b[0m\u001b[0m\n\u001b[1;32m    200\u001b[0m                                        \u001b[0merror_formatters\u001b[0m\u001b[0;34m,\u001b[0m\u001b[0;34m\u001b[0m\u001b[0;34m\u001b[0m\u001b[0m\n\u001b[0;32m--> 201\u001b[0;31m                                        null_result_formatters)\n\u001b[0m\u001b[1;32m    202\u001b[0m \u001b[0;34m\u001b[0m\u001b[0m\n\u001b[1;32m    203\u001b[0m     async def coro_request(\n",
      "\u001b[0;32m~/opt/anaconda3/lib/python3.7/site-packages/web3/manager.py\u001b[0m in \u001b[0;36mformatted_response\u001b[0;34m(self, response, params, error_formatters, null_result_formatters)\u001b[0m\n\u001b[1;32m    169\u001b[0m         \u001b[0;32mif\u001b[0m \u001b[0;34m\"error\"\u001b[0m \u001b[0;32min\u001b[0m \u001b[0mresponse\u001b[0m\u001b[0;34m:\u001b[0m\u001b[0;34m\u001b[0m\u001b[0;34m\u001b[0m\u001b[0m\n\u001b[1;32m    170\u001b[0m             \u001b[0mapply_error_formatters\u001b[0m\u001b[0;34m(\u001b[0m\u001b[0merror_formatters\u001b[0m\u001b[0;34m,\u001b[0m \u001b[0mresponse\u001b[0m\u001b[0;34m)\u001b[0m\u001b[0;34m\u001b[0m\u001b[0;34m\u001b[0m\u001b[0m\n\u001b[0;32m--> 171\u001b[0;31m             \u001b[0;32mraise\u001b[0m \u001b[0mValueError\u001b[0m\u001b[0;34m(\u001b[0m\u001b[0mresponse\u001b[0m\u001b[0;34m[\u001b[0m\u001b[0;34m\"error\"\u001b[0m\u001b[0;34m]\u001b[0m\u001b[0;34m)\u001b[0m\u001b[0;34m\u001b[0m\u001b[0;34m\u001b[0m\u001b[0m\n\u001b[0m\u001b[1;32m    172\u001b[0m         \u001b[0;31m# NULL_RESPONSES includes None, so return False here as the default\u001b[0m\u001b[0;34m\u001b[0m\u001b[0;34m\u001b[0m\u001b[0;34m\u001b[0m\u001b[0m\n\u001b[1;32m    173\u001b[0m         \u001b[0;31m# so we don't apply the null_result_formatters if there is no 'result' key\u001b[0m\u001b[0;34m\u001b[0m\u001b[0;34m\u001b[0m\u001b[0;34m\u001b[0m\u001b[0m\n",
      "\u001b[0;31mValueError\u001b[0m: {'message': 'VM Exception while processing transaction: revert', 'code': -32000, 'data': {'0x7f9cd86e031123116c1ced9d8d148c2f060f14657ea1735e65d1291d5034c969': {'error': 'revert', 'program_counter': 733, 'return': '0x'}, 'stack': 'c: VM Exception while processing transaction: revert\\n    at Function.c.fromResults (/usr/local/lib/node_modules/ganache-cli/build/ganache-core.node.cli.js:4:194812)\\n    at w.processBlock (/usr/local/lib/node_modules/ganache-cli/build/ganache-core.node.cli.js:42:53376)\\n    at runMicrotasks (<anonymous>)\\n    at processTicksAndRejections (internal/process/task_queues.js:93:5)', 'name': 'c'}}"
     ]
    }
   ],
   "source": [
    "print(\"maximum unauthenticated time interval before updating: \",risky_transaction_detector.functions.getMaximumUnauthenticatedTime().call())\n",
    "new_maximum_unauthencated_time = 96400\n",
    "transaction = risky_transaction_detector.functions.setMaximumUnauthenticatedTime(new_maximum_unauthencated_time).buildTransaction({\"chainId\": chain_id, \"from\": my_address, \"gasPrice\": w3.eth.gas_price, \"nonce\":nonce, \"gas\": 300000})\n",
    "nonce += 1\n",
    "signed_txn = w3.eth.account.sign_transaction(transaction, private_key=loadPrivateKey(w3.eth.accounts[0], account_data))\n",
    "tx_hash = w3.eth.send_raw_transaction(signed_txn.rawTransaction)\n",
    "tx_receipt = w3.eth.wait_for_transaction_receipt(tx_hash)\n",
    "    \n"
   ]
  },
  {
   "cell_type": "code",
   "execution_count": 211,
   "metadata": {},
   "outputs": [
    {
     "name": "stdout",
     "output_type": "stream",
     "text": [
      "3\n"
     ]
    }
   ],
   "source": [
    "block = w3.eth.getBlock('latest')\n",
    "print(block['number'])"
   ]
  },
  {
   "cell_type": "code",
   "execution_count": null,
   "metadata": {},
   "outputs": [],
   "source": [
    "\n",
    "# Two ways of interact with the contracts\n",
    "# 1. Call: Simulate making the call and getting a return value\n",
    "# 2. Transact:  actually make a state change\n",
    "\n",
    "\n",
    "\n",
    "\n"
   ]
  },
  {
   "cell_type": "code",
   "execution_count": 196,
   "metadata": {},
   "outputs": [
    {
     "ename": "AttributeError",
     "evalue": "'Eth' object has no attribute 'nonce'",
     "output_type": "error",
     "traceback": [
      "\u001b[0;31m---------------------------------------------------------------------------\u001b[0m",
      "\u001b[0;31mAttributeError\u001b[0m                            Traceback (most recent call last)",
      "\u001b[0;32m<ipython-input-196-99f139bc59b3>\u001b[0m in \u001b[0;36m<module>\u001b[0;34m\u001b[0m\n\u001b[0;32m----> 1\u001b[0;31m \u001b[0mw3\u001b[0m\u001b[0;34m.\u001b[0m\u001b[0meth\u001b[0m\u001b[0;34m.\u001b[0m\u001b[0mnonce\u001b[0m\u001b[0;34m\u001b[0m\u001b[0;34m\u001b[0m\u001b[0m\n\u001b[0m",
      "\u001b[0;31mAttributeError\u001b[0m: 'Eth' object has no attribute 'nonce'"
     ]
    }
   ],
   "source": []
  },
  {
   "cell_type": "code",
   "execution_count": null,
   "metadata": {},
   "outputs": [],
   "source": []
  }
 ],
 "metadata": {
  "kernelspec": {
   "display_name": "Python 3",
   "language": "python",
   "name": "python3"
  },
  "language_info": {
   "codemirror_mode": {
    "name": "ipython",
    "version": 3
   },
   "file_extension": ".py",
   "mimetype": "text/x-python",
   "name": "python",
   "nbconvert_exporter": "python",
   "pygments_lexer": "ipython3",
   "version": "3.7.6"
  }
 },
 "nbformat": 4,
 "nbformat_minor": 4
}
