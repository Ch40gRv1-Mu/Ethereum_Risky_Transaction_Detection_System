{
 "cells": [
  {
   "cell_type": "code",
   "execution_count": 187,
   "metadata": {},
   "outputs": [],
   "source": [
    "from solcx import compile_standard, install_solc\n",
    "import json\n",
    "from web3 import Web3\n",
    "import random\n",
    "from hexbytes import HexBytes"
   ]
  },
  {
   "cell_type": "markdown",
   "metadata": {},
   "source": [
    "# Test loading address and private key"
   ]
  },
  {
   "cell_type": "code",
   "execution_count": 188,
   "metadata": {},
   "outputs": [],
   "source": [
    "def decimalToHexString(arrayDecimal):\n",
    "    return '0x'+ ''.join(map(lambda x: \"0\"+hex(x)[2:] if (len(hex(x)[2:])==1) else hex(x)[2:].lower() , arrayDecimal))\n",
    "\n",
    "\n",
    "def loadPrivateKey(address, account_data):\n",
    "    return decimalToHexString(account_data['addresses'][address.lower()]['secretKey']['data'])\n",
    "\n",
    "def passBlocks(n):\n",
    "    for i in range(n):\n",
    "        w3.eth.send_transaction({\n",
    "            'to': w3.eth.accounts[0],\n",
    "            'from': w3.eth.accounts[0],\n",
    "            'value': 1\n",
    "        })\n",
    "        global nonce\n",
    "        nonce += 1\n",
    "        \n",
    "        "
   ]
  },
  {
   "cell_type": "code",
   "execution_count": 189,
   "metadata": {},
   "outputs": [],
   "source": [
    "#  listen to port 7545 for ganache\n",
    "\n",
    "w3 = Web3( Web3.HTTPProvider('http://127.0.0.1:8545'))"
   ]
  },
  {
   "cell_type": "code",
   "execution_count": 190,
   "metadata": {},
   "outputs": [
    {
     "name": "stdout",
     "output_type": "stream",
     "text": [
      "0x90F8bf6A479f320ead074411a4B0e7944Ea8c9C1\n"
     ]
    }
   ],
   "source": [
    "# get the first account address\n",
    "print(w3.eth.accounts[0])"
   ]
  },
  {
   "cell_type": "code",
   "execution_count": 191,
   "metadata": {},
   "outputs": [
    {
     "name": "stdout",
     "output_type": "stream",
     "text": [
      "0x4f3edf983ac636a65a842ce7c78d9aa706d3b113bce9c46f30d7d21715b23b1d\n"
     ]
    }
   ],
   "source": [
    "# get the first private key of account 0\n",
    "account_data = open('keys.json')\n",
    "account_data = json.load(account_data)\n",
    "print(loadPrivateKey(w3.eth.accounts[0], account_data))"
   ]
  },
  {
   "cell_type": "code",
   "execution_count": 192,
   "metadata": {},
   "outputs": [
    {
     "name": "stdout",
     "output_type": "stream",
     "text": [
      "b'\\x00'\n"
     ]
    }
   ],
   "source": [
    "print(HexBytes(0))"
   ]
  },
  {
   "cell_type": "markdown",
   "metadata": {},
   "source": [
    "# Test deploying RTDS"
   ]
  },
  {
   "cell_type": "code",
   "execution_count": 193,
   "metadata": {},
   "outputs": [
    {
     "data": {
      "text/plain": [
       "'\\n\\n        struct Account {\\n\\n        address accountAddress;\\n        bool isRegistered;\\n        uint256 currentBalance;\\n        uint256 latestVerifiedBlockNumber;\\n        uint256 latestVerifiedTime;\\n        bytes32 registrationChallenge;\\n        bytes registeredPublicKey;\\n        bytes keyHandle;\\n        // delayed transactions\\n        Transaction[] _delayedTransactions;\\n    }\\n\\n'"
      ]
     },
     "execution_count": 193,
     "metadata": {},
     "output_type": "execute_result"
    }
   ],
   "source": [
    "# Variable \n",
    "numberOfAccounts = 100\n",
    "\n",
    "my_address = \"0x90F8bf6A479f320ead074411a4B0e7944Ea8c9C1\"\n",
    "my_private_key = str(loadPrivateKey(my_address, account_data))\n",
    "\n",
    "successTransactionNumber = 0\n",
    "unSuccessTransactionNumber = 0\n",
    "overallGassFee = 0\n",
    "# https://solveforums.msomimaktaba.com/threads/solved-how-to-pass-a-struct-as-an-argument-in-call-using-web3-py.619080/\n",
    "\n",
    "'''\n",
    "    struct Transaction {\n",
    "        address senderAddress;\n",
    "        address receiverAddress;\n",
    "        uint256 amount;\n",
    "        uint256 transactionTime;\n",
    "        bytes32 transactionChallenge;\n",
    "        bool verified;\n",
    "    }\n",
    "'''\n",
    "\n",
    "'''\n",
    "\n",
    "        struct Account {\n",
    "\n",
    "        address accountAddress;\n",
    "        bool isRegistered;\n",
    "        uint256 currentBalance;\n",
    "        uint256 latestVerifiedBlockNumber;\n",
    "        uint256 latestVerifiedTime;\n",
    "        bytes32 registrationChallenge;\n",
    "        bytes registeredPublicKey;\n",
    "        bytes keyHandle;\n",
    "        // delayed transactions\n",
    "        Transaction[] _delayedTransactions;\n",
    "    }\n",
    "\n",
    "'''\n",
    "#transactionTest = {'senderAddress':w3.eth.accounts[0], 'receiverAddress':w3.eth.accounts[1], 'amount':250, 'transactionTime': 1649505951, 'transactionChallenge':HexBytes(0), 'verified': False};\n",
    "#senderAccount = {'accountAddress':w3.eth.accounts[0], 'isRegistered':True, 'currentBalance':2000000000,  'latestVerifiedBlockNumber':0, 'latestVerifiedTime':1649505949, 'registrationChallenge':HexBytes(0), 'registeredPublicKey': HexBytes(0), 'keyHandle':HexBytes(0), '_delayedTransactions':[]}\n",
    "\n",
    "#receiverAccount = {'accountAddress':w3.eth.accounts[1], 'isRegistered':True, 'currentBalance':2000000000,  'latestVerifiedBlockNumber':0, 'latestVerifiedTime':1649505949, 'registrationChallenge':HexBytes(0), 'registeredPublicKey': HexBytes(0), 'keyHandle':HexBytes(0), '_delayedTransactions':''}"
   ]
  },
  {
   "cell_type": "code",
   "execution_count": 203,
   "metadata": {},
   "outputs": [],
   "source": [
    "with open(\"./RTDS.sol\", \"r\") as file:\n",
    "    riskyTransactionDector = file.read()\n",
    "# Compile the solidity\n",
    "install_solc(\"0.8.7\")\n",
    "\n",
    "\n",
    "compiled_sol = compile_standard(\n",
    "    {\n",
    "        \"language\": \"Solidity\",\n",
    "        \"sources\": {\"RTDS.sol\": {\"content\": riskyTransactionDector}},\n",
    "        \"settings\": {\n",
    "            \"outputSelection\": {\n",
    "                \"*\": {\"*\": [\"abi\", \"metadata\", \"evm.bytecode\", \"evm.sourceMap\"]}\n",
    "            }\n",
    "        },\n",
    "    },allow_paths = \".\",\n",
    "    solc_version=\"0.8.7\",\n",
    ")\n",
    "\n",
    "with open(\"compiled_RTDS.json\", \"w\") as file:\n",
    "    json.dump(compiled_sol, file)\n",
    "\n",
    "# sets chain_id.\n",
    "chain_id = w3.eth.chain_id\n",
    "    \n",
    "# sets bytecode version.\n",
    "bytecode = compiled_sol[\"contracts\"][\"RTDS.sol\"][\"RTDS\"][\"evm\"][\"bytecode\"][\"object\"]\n",
    "\n",
    "# gets abi.\n",
    "abi = compiled_sol[\"contracts\"][\"RTDS.sol\"][\"RTDS\"][\"abi\"]\n",
    "\n",
    "# gets bytecode version.\n",
    "bytecode = compiled_sol[\"contracts\"][\"RTDS.sol\"][\"RTDS\"][\"evm\"][\"bytecode\"][\"object\"]\n",
    "\n",
    "# gets abi.\n",
    "abi = compiled_sol[\"contracts\"][\"RTDS.sol\"][\"RTDS\"][\"abi\"]\n",
    "\n",
    "riskyTransactionDetector = w3.eth.contract(abi=abi, bytecode=bytecode)\n",
    "\n",
    "# gets the latest transaction.\n",
    "nonceList = [0]*numberOfAccounts\n",
    "nonce = w3.eth.getTransactionCount(my_address)\n",
    "\n",
    "\n",
    "# Two ways of interact with the contracts\n",
    "# 1. Call: Simulate making the call and getting a return value\n",
    "# 2. Transact:  actually make a state change\n",
    "\n",
    "successTransactionNumber = 0\n",
    "unSuccessTransactionNumber = 0\n",
    "overallGassFee = 0\n",
    "\n",
    "# 1.  builds a transaction.\n",
    "transaction = riskyTransactionDetector.constructor().buildTransaction(\n",
    "    {\"chainId\": chain_id, \"gasPrice\": w3.eth.gas_price, \"from\": my_address, \"nonce\": nonce})\n",
    "nonce += 1\n",
    "# 2. signs a transaction.\n",
    "signed_txn = w3.eth.account.sign_transaction( transaction, private_key = my_private_key)\n",
    "\n",
    "# 3. sends a transaction.\n",
    "tx_hash = w3.eth.send_raw_transaction(signed_txn.rawTransaction)\n",
    "\n",
    "# 4. waits for the receipt.\n",
    "contract_receipt = w3.eth.wait_for_transaction_receipt(tx_hash)\n",
    "# Working with contracts\n",
    "# 1. Contract addresses\n",
    "# 2. Contract ABI\n",
    "risky_transaction_detector = w3.eth.contract(address = contract_receipt.contractAddress, abi=abi)\n",
    "\n"
   ]
  },
  {
   "cell_type": "markdown",
   "metadata": {},
   "source": [
    "### Tests registrationUpdator(Util.Account memory newAccount)"
   ]
  },
  {
   "cell_type": "code",
   "execution_count": 204,
   "metadata": {},
   "outputs": [
    {
     "name": "stdout",
     "output_type": "stream",
     "text": [
      "cumulative amount after registration:  0\n",
      "maximum allowed ratio after registration:  [1, 1000]\n",
      "maximum allowed amount after registration:  10000000000000000000\n"
     ]
    }
   ],
   "source": [
    "newAccount = (w3.eth.accounts[1], True,2000000000, 0, 1649505949,5,HexBytes(0), HexBytes(0),HexBytes(0), [])\n",
    "transactionWeb3 = risky_transaction_detector.functions.registrationUpdator(newAccount).buildTransaction({\"chainId\": chain_id, \"from\": my_address, \"gasPrice\": w3.eth.gas_price, \"nonce\":nonce, \"gas\": 300000})\n",
    "nonce += 1\n",
    "signed_txn = w3.eth.account.sign_transaction(transactionWeb3, private_key=loadPrivateKey(w3.eth.accounts[0], account_data))\n",
    "tx_hash = w3.eth.send_raw_transaction(signed_txn.rawTransaction)\n",
    "tx_receipt = w3.eth.wait_for_transaction_receipt(tx_hash)\n",
    "print(\"cumulative amount after registration: \",risky_transaction_detector.functions.getMaximumCumulativeAmount(w3.eth.accounts[1]).call())\n",
    "print(\"maximum allowed ratio after registration: \",risky_transaction_detector.functions.getMaximumAllowedRatio(w3.eth.accounts[1]).call())\n",
    "print(\"maximum allowed amount after registration: \",risky_transaction_detector.functions.getMaximumAllowedAmount(w3.eth.accounts[1]).call())\n"
   ]
  },
  {
   "cell_type": "markdown",
   "metadata": {},
   "source": [
    "# Unit Test"
   ]
  },
  {
   "cell_type": "markdown",
   "metadata": {},
   "source": [
    "## Test Maximum cumulative amount limit"
   ]
  },
  {
   "cell_type": "markdown",
   "metadata": {},
   "source": [
    "### Test getMaximumCumulativeAmount(address senderAccountAddress)\n"
   ]
  },
  {
   "cell_type": "code",
   "execution_count": 122,
   "metadata": {},
   "outputs": [
    {
     "name": "stdout",
     "output_type": "stream",
     "text": [
      "maximum cumulative amount:  0\n"
     ]
    }
   ],
   "source": [
    "print(\"maximum cumulative amount: \",risky_transaction_detector.functions.getMaximumCumulativeAmount(w3.eth.accounts[1]).call())\n"
   ]
  },
  {
   "cell_type": "markdown",
   "metadata": {},
   "source": [
    "### Test getMaximumAllowedAmount(address senderAccountAddress) "
   ]
  },
  {
   "cell_type": "code",
   "execution_count": 123,
   "metadata": {},
   "outputs": [
    {
     "name": "stdout",
     "output_type": "stream",
     "text": [
      "maximum allowed amount:  10000000000000000000\n"
     ]
    }
   ],
   "source": [
    "print(\"maximum allowed amount: \",risky_transaction_detector.functions.getMaximumAllowedAmount(w3.eth.accounts[1]).call())\n"
   ]
  },
  {
   "cell_type": "markdown",
   "metadata": {},
   "source": [
    "### Test getMaximumAllowedRatio(address senderAccountAddress)"
   ]
  },
  {
   "cell_type": "code",
   "execution_count": 124,
   "metadata": {},
   "outputs": [
    {
     "name": "stdout",
     "output_type": "stream",
     "text": [
      "maximum allowed ratio:  [1, 1000]\n"
     ]
    }
   ],
   "source": [
    "print(\"maximum allowed ratio: \",risky_transaction_detector.functions.getMaximumAllowedRatio(w3.eth.accounts[1]).call())\n"
   ]
  },
  {
   "cell_type": "code",
   "execution_count": 125,
   "metadata": {},
   "outputs": [
    {
     "name": "stdout",
     "output_type": "stream",
     "text": [
      "32\n"
     ]
    }
   ],
   "source": [
    "print(nonce)"
   ]
  },
  {
   "cell_type": "markdown",
   "metadata": {},
   "source": [
    "### Tests maximumCumulativeAmountLimit(address senderAccountAddress, uint256 proposedAmount)"
   ]
  },
  {
   "cell_type": "code",
   "execution_count": 78,
   "metadata": {},
   "outputs": [
    {
     "name": "stdout",
     "output_type": "stream",
     "text": [
      "is transaction of 999 from account allowed:  False\n",
      "is transaction of 1000 from account allowed:  False\n"
     ]
    }
   ],
   "source": [
    "print(\"is transaction of 999 from account allowed: \",risky_transaction_detector.functions.maximumCumulativeAmountLimit(w3.eth.accounts[1], 999).call())\n",
    "print(\"is transaction of 1000 from account allowed: \",risky_transaction_detector.functions.maximumCumulativeAmountLimit(w3.eth.accounts[1], 1000).call())"
   ]
  },
  {
   "cell_type": "markdown",
   "metadata": {},
   "source": [
    "### Tests transactionUpdator"
   ]
  },
  {
   "cell_type": "code",
   "execution_count": 71,
   "metadata": {},
   "outputs": [
    {
     "name": "stdout",
     "output_type": "stream",
     "text": [
      "is transaction of 1000 from account allowed:  False\n",
      "is transaction of 1001 from account allowed:  False\n",
      "is transaction of 799 from account allowed:  False\n",
      "is transaction of 800 from account allowed:  False\n"
     ]
    }
   ],
   "source": [
    "transactionTest = (w3.eth.accounts[1], w3.eth.accounts[2], 200,  1649505951, HexBytes(0), False);\n",
    "senderAccount = (w3.eth.accounts[1], True,2000000000, 0, 1649505949,5,HexBytes(0), HexBytes(0),HexBytes(0), [])\n",
    "receiverAccount  = (w3.eth.accounts[2], True,2000000000, 0, 1649505949,5,HexBytes(0), HexBytes(0),HexBytes(0), [])\n",
    "transactionWeb3 = risky_transaction_detector.functions.transactionUpdator(senderAccount,receiverAccount,transactionTest).buildTransaction({\"chainId\": chain_id, \"from\": my_address, \"gasPrice\": w3.eth.gas_price, \"nonce\":nonce, \"gas\": 300000})\n",
    "nonce += 1\n",
    "signed_txn = w3.eth.account.sign_transaction(transactionWeb3, private_key=loadPrivateKey(w3.eth.accounts[0], account_data))\n",
    "tx_hash = w3.eth.send_raw_transaction(signed_txn.rawTransaction)\n",
    "tx_receipt = w3.eth.wait_for_transaction_receipt(tx_hash)\n",
    "print(\"is transaction of 1000 from account allowed: \",risky_transaction_detector.functions.maximumCumulativeAmountLimit(w3.eth.accounts[1], 999).call())\n",
    "print(\"is transaction of 1001 from account allowed: \",risky_transaction_detector.functions.maximumCumulativeAmountLimit(w3.eth.accounts[1], 1000).call())\n",
    "print(\"is transaction of 799 from account allowed: \",risky_transaction_detector.functions.maximumCumulativeAmountLimit(w3.eth.accounts[1], 799).call())\n",
    "print(\"is transaction of 800 from account allowed: \",risky_transaction_detector.functions.maximumCumulativeAmountLimit(w3.eth.accounts[1], 800).call())"
   ]
  },
  {
   "cell_type": "markdown",
   "metadata": {},
   "source": [
    "## Test Block Passed"
   ]
  },
  {
   "cell_type": "code",
   "execution_count": 112,
   "metadata": {},
   "outputs": [
    {
     "name": "stdout",
     "output_type": "stream",
     "text": [
      "3\n"
     ]
    }
   ],
   "source": [
    "print(w3.eth.blockNumber)"
   ]
  },
  {
   "cell_type": "code",
   "execution_count": 113,
   "metadata": {},
   "outputs": [],
   "source": [
    "passBlocks(10)"
   ]
  },
  {
   "cell_type": "code",
   "execution_count": 114,
   "metadata": {},
   "outputs": [
    {
     "name": "stdout",
     "output_type": "stream",
     "text": [
      "13\n"
     ]
    }
   ],
   "source": [
    "print(w3.eth.blockNumber)"
   ]
  },
  {
   "cell_type": "markdown",
   "metadata": {},
   "source": [
    "## Test Maximum unauthenticated interval "
   ]
  },
  {
   "cell_type": "markdown",
   "metadata": {},
   "source": [
    "### Tests getMaximumUnauthenticatedBlockNumber(address accountAddress)"
   ]
  },
  {
   "cell_type": "code",
   "execution_count": 115,
   "metadata": {},
   "outputs": [
    {
     "name": "stdout",
     "output_type": "stream",
     "text": [
      "maximum unauthenticated time interval of account 1:  360\n"
     ]
    }
   ],
   "source": [
    "print(\"maximum unauthenticated time interval of account 1: \",risky_transaction_detector.functions.getMaximumUnauthenticatedBlockNumber(w3.eth.accounts[1]).call())"
   ]
  },
  {
   "cell_type": "markdown",
   "metadata": {},
   "source": [
    "### Tests  setMaximumUnauthenticatedBlockNumber(address accountAddress, uint256 newMaximumUnauthencatedBlockNumber)"
   ]
  },
  {
   "cell_type": "code",
   "execution_count": 116,
   "metadata": {},
   "outputs": [
    {
     "name": "stdout",
     "output_type": "stream",
     "text": [
      "maximum unauthenticated time interval of account 1 after setting:  400\n"
     ]
    }
   ],
   "source": [
    "newMaximumUnauthenticatedBlockNumber =  400\n",
    "\n",
    "transactionWeb3 = risky_transaction_detector.functions.setMaximumUnauthenticatedBlockNumber(w3.eth.accounts[1],newMaximumUnauthenticatedBlockNumber).buildTransaction({\"chainId\": chain_id, \"from\": my_address, \"gasPrice\": w3.eth.gas_price, \"nonce\":nonce, \"gas\": 300000})\n",
    "nonce += 1\n",
    "signed_txn = w3.eth.account.sign_transaction(transactionWeb3, private_key=loadPrivateKey(w3.eth.accounts[0], account_data))\n",
    "tx_hash = w3.eth.send_raw_transaction(signed_txn.rawTransaction)\n",
    "tx_receipt = w3.eth.wait_for_transaction_receipt(tx_hash)\n",
    "\n",
    "print(\"maximum unauthenticated time interval of account 1 after setting: \",risky_transaction_detector.functions.getMaximumUnauthenticatedBlockNumber(w3.eth.accounts[1]).call())"
   ]
  },
  {
   "cell_type": "markdown",
   "metadata": {},
   "source": [
    "### Tests  maximumUnauthenticatedIntervalLimit(Util.Account memory account)"
   ]
  },
  {
   "cell_type": "code",
   "execution_count": 117,
   "metadata": {},
   "outputs": [],
   "source": [
    "newAccount = (w3.eth.accounts[2], True,2000000000, 0, 1649505949,5,HexBytes(0), HexBytes(0),HexBytes(0), [])\n",
    "transactionWeb3 = risky_transaction_detector.functions.registrationUpdator(newAccount).buildTransaction({\"chainId\": chain_id, \"from\": my_address, \"gasPrice\": w3.eth.gas_price, \"nonce\":nonce, \"gas\": 300000})\n",
    "nonce += 1\n",
    "signed_txn = w3.eth.account.sign_transaction(transactionWeb3, private_key=loadPrivateKey(w3.eth.accounts[0], account_data))\n",
    "tx_hash = w3.eth.send_raw_transaction(signed_txn.rawTransaction)\n",
    "tx_receipt = w3.eth.wait_for_transaction_receipt(tx_hash)\n"
   ]
  },
  {
   "cell_type": "code",
   "execution_count": 118,
   "metadata": {},
   "outputs": [
    {
     "name": "stdout",
     "output_type": "stream",
     "text": [
      "False\n"
     ]
    }
   ],
   "source": [
    "print(risky_transaction_detector.functions.maximumUnauthenticatedIntervalLimit(newAccount).call())"
   ]
  },
  {
   "cell_type": "code",
   "execution_count": 79,
   "metadata": {},
   "outputs": [
    {
     "name": "stdout",
     "output_type": "stream",
     "text": [
      "True\n",
      "True\n"
     ]
    }
   ],
   "source": [
    "passBlocks(359)\n",
    "print(risky_transaction_detector.functions.maximumUnauthenticatedIntervalLimit(newAccount).call())\n",
    "passBlocks(1)\n",
    "print(risky_transaction_detector.functions.maximumUnauthenticatedIntervalLimit(newAccount).call())"
   ]
  },
  {
   "cell_type": "code",
   "execution_count": 119,
   "metadata": {},
   "outputs": [
    {
     "name": "stdout",
     "output_type": "stream",
     "text": [
      "False\n"
     ]
    }
   ],
   "source": [
    "newAccount = (w3.eth.accounts[2], True,2000000000, 465, 1649505949,5,HexBytes(0), HexBytes(0),HexBytes(0), [])\n",
    "\n",
    "print(risky_transaction_detector.functions.maximumUnauthenticatedIntervalLimit(newAccount).call())\n"
   ]
  },
  {
   "cell_type": "markdown",
   "metadata": {},
   "source": [
    "## Test Maximum amount to unregistered account"
   ]
  },
  {
   "cell_type": "markdown",
   "metadata": {},
   "source": [
    "### Tests getMaximumAmountToUnregisteredAccount(address accountAddress)"
   ]
  },
  {
   "cell_type": "code",
   "execution_count": 120,
   "metadata": {},
   "outputs": [
    {
     "name": "stdout",
     "output_type": "stream",
     "text": [
      "1000000000000000\n"
     ]
    }
   ],
   "source": [
    "print(risky_transaction_detector.functions.getMaximumAmountToUnregisteredAccount(w3.eth.accounts[1]).call())\n",
    "\n"
   ]
  },
  {
   "cell_type": "markdown",
   "metadata": {},
   "source": [
    "### Tests maximumAmountToUnregisteredAccountLimit(address sendeAccountAddress, bool isRegistered, uint256 amount)"
   ]
  },
  {
   "cell_type": "code",
   "execution_count": 121,
   "metadata": {},
   "outputs": [
    {
     "name": "stdout",
     "output_type": "stream",
     "text": [
      "False\n",
      "True\n"
     ]
    }
   ],
   "source": [
    "\n",
    "\n",
    "print(risky_transaction_detector.functions.maximumAmountToUnregisteredAccountLimit(w3.eth.accounts[1], False, 999999999999999).call())\n",
    "print(risky_transaction_detector.functions.maximumAmountToUnregisteredAccountLimit(w3.eth.accounts[1], False, 1000000000000000).call())\n",
    "\n"
   ]
  },
  {
   "cell_type": "markdown",
   "metadata": {},
   "source": [
    "### Tests setMaximumAmountToUnregisteredAccount(address accountAddress, uint256 newMaximumAllowedAmountToUnregisteredAccount)"
   ]
  },
  {
   "cell_type": "code",
   "execution_count": 122,
   "metadata": {},
   "outputs": [
    {
     "name": "stdout",
     "output_type": "stream",
     "text": [
      "2000000000000000\n"
     ]
    }
   ],
   "source": [
    "newMaximumAllowedAmountToUnregisteredAccount =  2000000000000000\n",
    "transactionWeb3 = risky_transaction_detector.functions.setMaximumAmountToUnregisteredAccount(w3.eth.accounts[1],newMaximumAllowedAmountToUnregisteredAccount).buildTransaction({\"chainId\": chain_id, \"from\": my_address, \"gasPrice\": w3.eth.gas_price, \"nonce\":nonce, \"gas\": 300000})\n",
    "nonce += 1\n",
    "signed_txn = w3.eth.account.sign_transaction(transactionWeb3, private_key=loadPrivateKey(w3.eth.accounts[0], account_data))\n",
    "tx_hash = w3.eth.send_raw_transaction(signed_txn.rawTransaction)\n",
    "tx_receipt = w3.eth.wait_for_transaction_receipt(tx_hash)\n",
    "print(risky_transaction_detector.functions.getMaximumAmountToUnregisteredAccount(w3.eth.accounts[1]).call())\n"
   ]
  },
  {
   "cell_type": "markdown",
   "metadata": {},
   "source": [
    "## Test Maximum frequency limit "
   ]
  },
  {
   "cell_type": "markdown",
   "metadata": {},
   "source": [
    "###  Tests getMaximumAllowedTransactionsPerThousandBlocks(address senderAccountAddress)"
   ]
  },
  {
   "cell_type": "code",
   "execution_count": 194,
   "metadata": {},
   "outputs": [
    {
     "name": "stdout",
     "output_type": "stream",
     "text": [
      "0\n"
     ]
    }
   ],
   "source": [
    "print(risky_transaction_detector.functions.getMaximumAllowedTransactionsPerThousandBlocks(w3.eth.accounts[1]).call())\n"
   ]
  },
  {
   "cell_type": "markdown",
   "metadata": {},
   "source": [
    "### Tests setMaximumAllowedTransactionsPerThousandBlocks(address senderAccountAddress, uint256 newMAximumAllowedTransactionsPerThousandBlocks) "
   ]
  },
  {
   "cell_type": "code",
   "execution_count": 204,
   "metadata": {},
   "outputs": [
    {
     "name": "stdout",
     "output_type": "stream",
     "text": [
      "6\n"
     ]
    }
   ],
   "source": [
    "newMAximumAllowedTransactionsPerThousandBlocks =  6\n",
    "transactionWeb3 = risky_transaction_detector.functions.setMaximumAllowedTransactionsPerThousandBlocks(w3.eth.accounts[1], newMAximumAllowedTransactionsPerThousandBlocks ).buildTransaction({\"chainId\": chain_id, \"from\": my_address, \"gasPrice\": w3.eth.gas_price, \"nonce\":nonce, \"gas\": 300000})\n",
    "nonce += 1\n",
    "signed_txn = w3.eth.account.sign_transaction(transactionWeb3, private_key=loadPrivateKey(w3.eth.accounts[0], account_data))\n",
    "tx_hash = w3.eth.send_raw_transaction(signed_txn.rawTransaction)\n",
    "tx_receipt = w3.eth.wait_for_transaction_receipt(tx_hash)\n",
    "print(risky_transaction_detector.functions.getMaximumAllowedTransactionsPerThousandBlocks(w3.eth.accounts[1]).call())"
   ]
  },
  {
   "cell_type": "code",
   "execution_count": 205,
   "metadata": {},
   "outputs": [
    {
     "name": "stdout",
     "output_type": "stream",
     "text": [
      "correct\n"
     ]
    }
   ],
   "source": [
    "newMAximumAllowedTransactionsPerThousandBlocks =  11\n",
    "transactionWeb3 = risky_transaction_detector.functions.setMaximumAllowedTransactionsPerThousandBlocks(w3.eth.accounts[1], newMAximumAllowedTransactionsPerThousandBlocks).buildTransaction({\"chainId\": chain_id, \"from\": my_address, \"gasPrice\": w3.eth.gas_price, \"nonce\":nonce, \"gas\": 300000})\n",
    "signed_txn = w3.eth.account.sign_transaction(transactionWeb3, private_key=loadPrivateKey(w3.eth.accounts[0], account_data))\n",
    "try:\n",
    "    tx_hash = w3.eth.send_raw_transaction(signed_txn.rawTransaction)\n",
    "except:\n",
    "    print(\"correct\")\n",
    "tx_receipt = w3.eth.wait_for_transaction_receipt(tx_hash)\n"
   ]
  },
  {
   "cell_type": "code",
   "execution_count": 33,
   "metadata": {},
   "outputs": [
    {
     "name": "stdout",
     "output_type": "stream",
     "text": [
      "AttributeDict({'transactionHash': HexBytes('0xebb4296e8936437bd45c3a599cd3fb4bbb4401da526f4adb0989f126638266d5'), 'transactionIndex': 0, 'blockHash': HexBytes('0x400238a3f89e8412c5037c30d2355607c6071b65dfb6a0b1d23150bc1654df01'), 'blockNumber': 9, 'from': '0x90F8bf6A479f320ead074411a4B0e7944Ea8c9C1', 'to': '0xD833215cBcc3f914bD1C9ece3EE7BF8B14f841bb', 'gasUsed': 27109, 'cumulativeGasUsed': 27109, 'contractAddress': None, 'logs': [], 'status': 1, 'logsBloom': HexBytes('0x00000000000000000000000000000000000000000000000000000000000000000000000000000000000000000000000000000000000000000000000000000000000000000000000000000000000000000000000000000000000000000000000000000000000000000000000000000000000000000000000000000000000000000000000000000000000000000000000000000000000000000000000000000000000000000000000000000000000000000000000000000000000000000000000000000000000000000000000000000000000000000000000000000000000000000000000000000000000000000000000000000000000000000000000000000000')})\n"
     ]
    }
   ],
   "source": [
    "transactionWeb3 = risky_transaction_detector.functions.maximumFrequencyLimit(w3.eth.accounts[1]).buildTransaction({\"chainId\": chain_id, \"from\": my_address, \"gasPrice\": w3.eth.gas_price, \"nonce\":nonce, \"gas\": 300000})\n",
    "nonce += 1\n",
    "signed_txn = w3.eth.account.sign_transaction(transactionWeb3, private_key=loadPrivateKey(w3.eth.accounts[0], account_data))\n",
    "tx_hash = w3.eth.send_raw_transaction(signed_txn.rawTransaction)\n",
    "tx_receipt = w3.eth.wait_for_transaction_receipt(tx_hash)\n",
    "print(tx_receipt)"
   ]
  },
  {
   "cell_type": "code",
   "execution_count": 138,
   "metadata": {},
   "outputs": [],
   "source": [
    "transactionWeb3 = risky_transaction_detector.functions.updateRecentTransactions(w3.eth.accounts[1]).buildTransaction({\"chainId\": chain_id, \"from\": my_address, \"gasPrice\": w3.eth.gas_price, \"nonce\":nonce, \"gas\": 300000})\n",
    "nonce += 1\n",
    "signed_txn = w3.eth.account.sign_transaction(transactionWeb3, private_key=loadPrivateKey(w3.eth.accounts[0], account_data))\n",
    "tx_hash = w3.eth.send_raw_transaction(signed_txn.rawTransaction)\n",
    "tx_receipt = w3.eth.wait_for_transaction_receipt(tx_hash)"
   ]
  },
  {
   "cell_type": "markdown",
   "metadata": {},
   "source": [
    "### Tests maximumFrequencyLimit(address senderAccountAddress)"
   ]
  },
  {
   "cell_type": "code",
   "execution_count": 186,
   "metadata": {},
   "outputs": [
    {
     "name": "stdout",
     "output_type": "stream",
     "text": [
      "number of recent transaction:  0\n",
      "number of recent transaction:  False\n",
      "number of recent transaction:  1\n",
      "number of recent transaction:  False\n",
      "number of recent transaction:  2\n",
      "number of recent transaction:  False\n",
      "number of recent transaction:  3\n",
      "number of recent transaction:  False\n",
      "number of recent transaction:  4\n",
      "number of recent transaction:  False\n",
      "number of recent transaction:  5\n",
      "number of recent transaction:  True\n",
      "number of recent transaction:  6\n",
      "number of recent transaction:  True\n",
      "number of recent transaction:  7\n",
      "number of recent transaction:  True\n",
      "number of recent transaction:  8\n",
      "number of recent transaction:  True\n",
      "number of recent transaction:  9\n",
      "number of recent transaction:  True\n",
      "number of recent transaction:  9\n",
      "number of recent transaction:  True\n"
     ]
    }
   ],
   "source": [
    "\n",
    "for i in range(11):\n",
    "    #transactionWeb3 = risky_transaction_detector.functions.popOutdatedTransactions(w3.eth.accounts[1]).buildTransaction({\"chainId\": chain_id, \"from\": my_address, \"gasPrice\": w3.eth.gas_price, \"nonce\":nonce, \"gas\": 300000})\n",
    "    #nonce += 1\n",
    "    #signed_txn = w3.eth.account.sign_transaction(transactionWeb3, private_key=loadPrivateKey(w3.eth.accounts[0], account_data))\n",
    "    #tx_hash = w3.eth.send_raw_transaction(signed_txn.rawTransaction)\n",
    "    #tx_receipt = w3.eth.wait_for_transaction_receipt(tx_hash)\n",
    "    #print(tx_receipt)\n",
    "    print(\"number of recent transaction: \",risky_transaction_detector.functions.getRecentTransactionsNumber(w3.eth.accounts[1]).call())\n",
    "    # maximumFrequencyLimit(address senderAccountAddress)\n",
    "    print(\"number of recent transaction: \",risky_transaction_detector.functions.maximumFrequencyLimit(w3.eth.accounts[1]).call())\n",
    "    transactionWeb3 = risky_transaction_detector.functions.updateRecentTransactions(w3.eth.accounts[1]).buildTransaction({\"chainId\": chain_id, \"from\": my_address, \"gasPrice\": w3.eth.gas_price, \"nonce\":nonce, \"gas\": 300000})\n",
    "   \n",
    "    signed_txn = w3.eth.account.sign_transaction(transactionWeb3, private_key=loadPrivateKey(w3.eth.accounts[0], account_data))\n",
    "    tx_hash = w3.eth.send_raw_transaction(signed_txn.rawTransaction)\n",
    "    tx_receipt = w3.eth.wait_for_transaction_receipt(tx_hash)\n",
    "    nonce += 1\n",
    "    \n",
    "    "
   ]
  },
  {
   "cell_type": "code",
   "execution_count": 158,
   "metadata": {},
   "outputs": [
    {
     "name": "stdout",
     "output_type": "stream",
     "text": [
      "8\n"
     ]
    }
   ],
   "source": [
    "print(risky_transaction_detector.functions.getRecentTransactionsNumber(w3.eth.accounts[1]).call())"
   ]
  },
  {
   "cell_type": "markdown",
   "metadata": {},
   "source": [
    "## Tests Small Amount Release"
   ]
  },
  {
   "cell_type": "markdown",
   "metadata": {},
   "source": [
    "### Tests  getSmallAmount(address senderAccountAddress) "
   ]
  },
  {
   "cell_type": "code",
   "execution_count": 206,
   "metadata": {},
   "outputs": [
    {
     "name": "stdout",
     "output_type": "stream",
     "text": [
      "1000000000\n"
     ]
    }
   ],
   "source": [
    "print(risky_transaction_detector.functions.getSmallAmount(w3.eth.accounts[1]).call())"
   ]
  },
  {
   "cell_type": "markdown",
   "metadata": {},
   "source": [
    "### Tests   getSmallRatio(address senderAccountAddress)"
   ]
  },
  {
   "cell_type": "code",
   "execution_count": 207,
   "metadata": {},
   "outputs": [
    {
     "name": "stdout",
     "output_type": "stream",
     "text": [
      "[1, 10000]\n"
     ]
    }
   ],
   "source": [
    "print(risky_transaction_detector.functions.getSmallRatio(w3.eth.accounts[1]).call())"
   ]
  },
  {
   "cell_type": "markdown",
   "metadata": {},
   "source": [
    "### Tests   setSmallAmount (address senderAccountAddress, uint256 newAmount)"
   ]
  },
  {
   "cell_type": "code",
   "execution_count": 208,
   "metadata": {},
   "outputs": [
    {
     "name": "stdout",
     "output_type": "stream",
     "text": [
      "1000\n"
     ]
    }
   ],
   "source": [
    "transactionWeb3 = risky_transaction_detector.functions.setSmallAmount(w3.eth.accounts[1], 1000).buildTransaction({\"chainId\": chain_id, \"from\": my_address, \"gasPrice\": w3.eth.gas_price, \"nonce\":nonce, \"gas\": 300000})\n",
    "nonce += 1\n",
    "signed_txn = w3.eth.account.sign_transaction(transactionWeb3, private_key=loadPrivateKey(w3.eth.accounts[0], account_data))\n",
    "tx_hash = w3.eth.send_raw_transaction(signed_txn.rawTransaction)\n",
    "tx_receipt = w3.eth.wait_for_transaction_receipt(tx_hash)\n",
    "print(risky_transaction_detector.functions.getSmallAmount(w3.eth.accounts[1]).call())"
   ]
  },
  {
   "cell_type": "markdown",
   "metadata": {},
   "source": [
    "### Tests   setSmallRatio(address senderAccountAddress, uint256[] memory newRatio) "
   ]
  },
  {
   "cell_type": "code",
   "execution_count": 210,
   "metadata": {},
   "outputs": [
    {
     "name": "stdout",
     "output_type": "stream",
     "text": [
      "[1, 1000]\n"
     ]
    }
   ],
   "source": [
    "transactionWeb3 = risky_transaction_detector.functions.setSmallRatio(w3.eth.accounts[1], [1,1000]).buildTransaction({\"chainId\": chain_id, \"from\": my_address, \"gasPrice\": w3.eth.gas_price, \"nonce\":nonce, \"gas\": 300000})\n",
    "signed_txn = w3.eth.account.sign_transaction(transactionWeb3, private_key=loadPrivateKey(w3.eth.accounts[0], account_data))\n",
    "tx_hash = w3.eth.send_raw_transaction(signed_txn.rawTransaction)\n",
    "tx_receipt = w3.eth.wait_for_transaction_receipt(tx_hash)\n",
    "nonce += 1\n",
    "print(risky_transaction_detector.functions.getSmallRatio(w3.eth.accounts[1]).call())"
   ]
  },
  {
   "cell_type": "markdown",
   "metadata": {},
   "source": [
    "### Tests smallAmountRelease(Util.Account memory senderAccount, uint256 amount) "
   ]
  },
  {
   "cell_type": "code",
   "execution_count": 222,
   "metadata": {},
   "outputs": [
    {
     "name": "stdout",
     "output_type": "stream",
     "text": [
      "True\n",
      "False\n"
     ]
    }
   ],
   "source": [
    "senderAccount = (w3.eth.accounts[1], True,2000000000, 0, 1649505949,5,HexBytes(0), HexBytes(0),HexBytes(0), [])\n",
    "print(risky_transaction_detector.functions.smallAmountRelease(senderAccount,1).call())\n",
    "print(risky_transaction_detector.functions.smallAmountRelease(senderAccount,10000000000000000000).call())"
   ]
  },
  {
   "cell_type": "markdown",
   "metadata": {},
   "source": [
    "## Test view functions"
   ]
  },
  {
   "cell_type": "code",
   "execution_count": 219,
   "metadata": {},
   "outputs": [
    {
     "ename": "ContractLogicError",
     "evalue": "execution reverted: VM Exception while processing transaction: revert",
     "output_type": "error",
     "traceback": [
      "\u001b[0;31m---------------------------------------------------------------------------\u001b[0m",
      "\u001b[0;31mContractLogicError\u001b[0m                        Traceback (most recent call last)",
      "\u001b[0;32m<ipython-input-219-46235e252ead>\u001b[0m in \u001b[0;36m<module>\u001b[0;34m\u001b[0m\n\u001b[1;32m      5\u001b[0m \u001b[0msenderAccount\u001b[0m \u001b[0;34m=\u001b[0m \u001b[0;34m(\u001b[0m\u001b[0mw3\u001b[0m\u001b[0;34m.\u001b[0m\u001b[0meth\u001b[0m\u001b[0;34m.\u001b[0m\u001b[0maccounts\u001b[0m\u001b[0;34m[\u001b[0m\u001b[0;36m0\u001b[0m\u001b[0;34m]\u001b[0m\u001b[0;34m,\u001b[0m \u001b[0;32mTrue\u001b[0m\u001b[0;34m,\u001b[0m\u001b[0;36m2000000000\u001b[0m\u001b[0;34m,\u001b[0m \u001b[0;36m0\u001b[0m\u001b[0;34m,\u001b[0m \u001b[0;36m1649505949\u001b[0m\u001b[0;34m,\u001b[0m\u001b[0;36m5\u001b[0m\u001b[0;34m,\u001b[0m\u001b[0mHexBytes\u001b[0m\u001b[0;34m(\u001b[0m\u001b[0;36m0\u001b[0m\u001b[0;34m)\u001b[0m\u001b[0;34m,\u001b[0m \u001b[0mHexBytes\u001b[0m\u001b[0;34m(\u001b[0m\u001b[0;36m0\u001b[0m\u001b[0;34m)\u001b[0m\u001b[0;34m,\u001b[0m\u001b[0mHexBytes\u001b[0m\u001b[0;34m(\u001b[0m\u001b[0;36m0\u001b[0m\u001b[0;34m)\u001b[0m\u001b[0;34m,\u001b[0m \u001b[0;34m[\u001b[0m\u001b[0;34m]\u001b[0m\u001b[0;34m)\u001b[0m\u001b[0;34m\u001b[0m\u001b[0;34m\u001b[0m\u001b[0m\n\u001b[1;32m      6\u001b[0m \u001b[0mreceiverAccount\u001b[0m  \u001b[0;34m=\u001b[0m \u001b[0;34m(\u001b[0m\u001b[0mw3\u001b[0m\u001b[0;34m.\u001b[0m\u001b[0meth\u001b[0m\u001b[0;34m.\u001b[0m\u001b[0maccounts\u001b[0m\u001b[0;34m[\u001b[0m\u001b[0;36m1\u001b[0m\u001b[0;34m]\u001b[0m\u001b[0;34m,\u001b[0m \u001b[0;32mTrue\u001b[0m\u001b[0;34m,\u001b[0m\u001b[0;36m2000000000\u001b[0m\u001b[0;34m,\u001b[0m \u001b[0;36m0\u001b[0m\u001b[0;34m,\u001b[0m \u001b[0;36m1649505949\u001b[0m\u001b[0;34m,\u001b[0m\u001b[0;36m5\u001b[0m\u001b[0;34m,\u001b[0m\u001b[0mHexBytes\u001b[0m\u001b[0;34m(\u001b[0m\u001b[0;36m0\u001b[0m\u001b[0;34m)\u001b[0m\u001b[0;34m,\u001b[0m \u001b[0mHexBytes\u001b[0m\u001b[0;34m(\u001b[0m\u001b[0;36m0\u001b[0m\u001b[0;34m)\u001b[0m\u001b[0;34m,\u001b[0m\u001b[0mHexBytes\u001b[0m\u001b[0;34m(\u001b[0m\u001b[0;36m0\u001b[0m\u001b[0;34m)\u001b[0m\u001b[0;34m,\u001b[0m \u001b[0;34m[\u001b[0m\u001b[0;34m]\u001b[0m\u001b[0;34m)\u001b[0m\u001b[0;34m\u001b[0m\u001b[0;34m\u001b[0m\u001b[0m\n\u001b[0;32m----> 7\u001b[0;31m \u001b[0mprint\u001b[0m\u001b[0;34m(\u001b[0m\u001b[0mrisky_transaction_detector\u001b[0m\u001b[0;34m.\u001b[0m\u001b[0mfunctions\u001b[0m\u001b[0;34m.\u001b[0m\u001b[0mcheckSecurity\u001b[0m\u001b[0;34m(\u001b[0m\u001b[0msenderAccount\u001b[0m\u001b[0;34m,\u001b[0m \u001b[0mreceiverAccount\u001b[0m\u001b[0;34m,\u001b[0m \u001b[0mtransactionTest\u001b[0m\u001b[0;34m)\u001b[0m\u001b[0;34m.\u001b[0m\u001b[0mcall\u001b[0m\u001b[0;34m(\u001b[0m\u001b[0;34m)\u001b[0m\u001b[0;34m)\u001b[0m\u001b[0;34m\u001b[0m\u001b[0;34m\u001b[0m\u001b[0m\n\u001b[0m",
      "\u001b[0;32m~/opt/anaconda3/lib/python3.7/site-packages/web3/contract.py\u001b[0m in \u001b[0;36mcall\u001b[0;34m(self, transaction, block_identifier, state_override)\u001b[0m\n\u001b[1;32m    966\u001b[0m             \u001b[0mstate_override\u001b[0m\u001b[0;34m,\u001b[0m\u001b[0;34m\u001b[0m\u001b[0;34m\u001b[0m\u001b[0m\n\u001b[1;32m    967\u001b[0m             \u001b[0;34m*\u001b[0m\u001b[0mself\u001b[0m\u001b[0;34m.\u001b[0m\u001b[0margs\u001b[0m\u001b[0;34m,\u001b[0m\u001b[0;34m\u001b[0m\u001b[0;34m\u001b[0m\u001b[0m\n\u001b[0;32m--> 968\u001b[0;31m             \u001b[0;34m**\u001b[0m\u001b[0mself\u001b[0m\u001b[0;34m.\u001b[0m\u001b[0mkwargs\u001b[0m\u001b[0;34m\u001b[0m\u001b[0;34m\u001b[0m\u001b[0m\n\u001b[0m\u001b[1;32m    969\u001b[0m         )\n\u001b[1;32m    970\u001b[0m \u001b[0;34m\u001b[0m\u001b[0m\n",
      "\u001b[0;32m~/opt/anaconda3/lib/python3.7/site-packages/web3/contract.py\u001b[0m in \u001b[0;36mcall_contract_function\u001b[0;34m(web3, address, normalizers, function_identifier, transaction, block_id, contract_abi, fn_abi, state_override, *args, **kwargs)\u001b[0m\n\u001b[1;32m   1502\u001b[0m         \u001b[0mcall_transaction\u001b[0m\u001b[0;34m,\u001b[0m\u001b[0;34m\u001b[0m\u001b[0;34m\u001b[0m\u001b[0m\n\u001b[1;32m   1503\u001b[0m         \u001b[0mblock_identifier\u001b[0m\u001b[0;34m=\u001b[0m\u001b[0mblock_id\u001b[0m\u001b[0;34m,\u001b[0m\u001b[0;34m\u001b[0m\u001b[0;34m\u001b[0m\u001b[0m\n\u001b[0;32m-> 1504\u001b[0;31m         \u001b[0mstate_override\u001b[0m\u001b[0;34m=\u001b[0m\u001b[0mstate_override\u001b[0m\u001b[0;34m,\u001b[0m\u001b[0;34m\u001b[0m\u001b[0;34m\u001b[0m\u001b[0m\n\u001b[0m\u001b[1;32m   1505\u001b[0m     )\n\u001b[1;32m   1506\u001b[0m \u001b[0;34m\u001b[0m\u001b[0m\n",
      "\u001b[0;32m~/opt/anaconda3/lib/python3.7/site-packages/web3/module.py\u001b[0m in \u001b[0;36mcaller\u001b[0;34m(*args, **kwargs)\u001b[0m\n\u001b[1;32m     58\u001b[0m                                              \u001b[0mparams\u001b[0m\u001b[0;34m,\u001b[0m\u001b[0;34m\u001b[0m\u001b[0;34m\u001b[0m\u001b[0m\n\u001b[1;32m     59\u001b[0m                                              \u001b[0merror_formatters\u001b[0m\u001b[0;34m,\u001b[0m\u001b[0;34m\u001b[0m\u001b[0;34m\u001b[0m\u001b[0m\n\u001b[0;32m---> 60\u001b[0;31m                                              null_result_formatters)\n\u001b[0m\u001b[1;32m     61\u001b[0m         \u001b[0;32mreturn\u001b[0m \u001b[0mapply_result_formatters\u001b[0m\u001b[0;34m(\u001b[0m\u001b[0mresult_formatters\u001b[0m\u001b[0;34m,\u001b[0m \u001b[0mresult\u001b[0m\u001b[0;34m)\u001b[0m\u001b[0;34m\u001b[0m\u001b[0;34m\u001b[0m\u001b[0m\n\u001b[1;32m     62\u001b[0m     \u001b[0;32mreturn\u001b[0m \u001b[0mcaller\u001b[0m\u001b[0;34m\u001b[0m\u001b[0;34m\u001b[0m\u001b[0m\n",
      "\u001b[0;32m~/opt/anaconda3/lib/python3.7/site-packages/web3/manager.py\u001b[0m in \u001b[0;36mrequest_blocking\u001b[0;34m(self, method, params, error_formatters, null_result_formatters)\u001b[0m\n\u001b[1;32m    199\u001b[0m                                        \u001b[0mparams\u001b[0m\u001b[0;34m,\u001b[0m\u001b[0;34m\u001b[0m\u001b[0;34m\u001b[0m\u001b[0m\n\u001b[1;32m    200\u001b[0m                                        \u001b[0merror_formatters\u001b[0m\u001b[0;34m,\u001b[0m\u001b[0;34m\u001b[0m\u001b[0;34m\u001b[0m\u001b[0m\n\u001b[0;32m--> 201\u001b[0;31m                                        null_result_formatters)\n\u001b[0m\u001b[1;32m    202\u001b[0m \u001b[0;34m\u001b[0m\u001b[0m\n\u001b[1;32m    203\u001b[0m     async def coro_request(\n",
      "\u001b[0;32m~/opt/anaconda3/lib/python3.7/site-packages/web3/manager.py\u001b[0m in \u001b[0;36mformatted_response\u001b[0;34m(self, response, params, error_formatters, null_result_formatters)\u001b[0m\n\u001b[1;32m    168\u001b[0m     ) -> Any:\n\u001b[1;32m    169\u001b[0m         \u001b[0;32mif\u001b[0m \u001b[0;34m\"error\"\u001b[0m \u001b[0;32min\u001b[0m \u001b[0mresponse\u001b[0m\u001b[0;34m:\u001b[0m\u001b[0;34m\u001b[0m\u001b[0;34m\u001b[0m\u001b[0m\n\u001b[0;32m--> 170\u001b[0;31m             \u001b[0mapply_error_formatters\u001b[0m\u001b[0;34m(\u001b[0m\u001b[0merror_formatters\u001b[0m\u001b[0;34m,\u001b[0m \u001b[0mresponse\u001b[0m\u001b[0;34m)\u001b[0m\u001b[0;34m\u001b[0m\u001b[0;34m\u001b[0m\u001b[0m\n\u001b[0m\u001b[1;32m    171\u001b[0m             \u001b[0;32mraise\u001b[0m \u001b[0mValueError\u001b[0m\u001b[0;34m(\u001b[0m\u001b[0mresponse\u001b[0m\u001b[0;34m[\u001b[0m\u001b[0;34m\"error\"\u001b[0m\u001b[0;34m]\u001b[0m\u001b[0;34m)\u001b[0m\u001b[0;34m\u001b[0m\u001b[0;34m\u001b[0m\u001b[0m\n\u001b[1;32m    172\u001b[0m         \u001b[0;31m# NULL_RESPONSES includes None, so return False here as the default\u001b[0m\u001b[0;34m\u001b[0m\u001b[0;34m\u001b[0m\u001b[0;34m\u001b[0m\u001b[0m\n",
      "\u001b[0;32m~/opt/anaconda3/lib/python3.7/site-packages/web3/manager.py\u001b[0m in \u001b[0;36mapply_error_formatters\u001b[0;34m(error_formatters, response)\u001b[0m\n\u001b[1;32m     68\u001b[0m ) -> RPCResponse:\n\u001b[1;32m     69\u001b[0m     \u001b[0;32mif\u001b[0m \u001b[0merror_formatters\u001b[0m\u001b[0;34m:\u001b[0m\u001b[0;34m\u001b[0m\u001b[0;34m\u001b[0m\u001b[0m\n\u001b[0;32m---> 70\u001b[0;31m         \u001b[0mformatted_resp\u001b[0m \u001b[0;34m=\u001b[0m \u001b[0mpipe\u001b[0m\u001b[0;34m(\u001b[0m\u001b[0mresponse\u001b[0m\u001b[0;34m,\u001b[0m \u001b[0merror_formatters\u001b[0m\u001b[0;34m)\u001b[0m\u001b[0;34m\u001b[0m\u001b[0;34m\u001b[0m\u001b[0m\n\u001b[0m\u001b[1;32m     71\u001b[0m         \u001b[0;32mreturn\u001b[0m \u001b[0mformatted_resp\u001b[0m\u001b[0;34m\u001b[0m\u001b[0;34m\u001b[0m\u001b[0m\n\u001b[1;32m     72\u001b[0m     \u001b[0;32melse\u001b[0m\u001b[0;34m:\u001b[0m\u001b[0;34m\u001b[0m\u001b[0;34m\u001b[0m\u001b[0m\n",
      "\u001b[0;32m~/opt/anaconda3/lib/python3.7/site-packages/cytoolz/functoolz.pyx\u001b[0m in \u001b[0;36mcytoolz.functoolz.pipe\u001b[0;34m()\u001b[0m\n",
      "\u001b[0;32m~/opt/anaconda3/lib/python3.7/site-packages/cytoolz/functoolz.pyx\u001b[0m in \u001b[0;36mcytoolz.functoolz.c_pipe\u001b[0;34m()\u001b[0m\n",
      "\u001b[0;32m~/opt/anaconda3/lib/python3.7/site-packages/web3/_utils/method_formatters.py\u001b[0m in \u001b[0;36mraise_solidity_error_on_revert\u001b[0;34m(response)\u001b[0m\n\u001b[1;32m    559\u001b[0m     \u001b[0;31m# Ganache case:\u001b[0m\u001b[0;34m\u001b[0m\u001b[0;34m\u001b[0m\u001b[0;34m\u001b[0m\u001b[0m\n\u001b[1;32m    560\u001b[0m     \u001b[0;32mif\u001b[0m \u001b[0misinstance\u001b[0m\u001b[0;34m(\u001b[0m\u001b[0mdata\u001b[0m\u001b[0;34m,\u001b[0m \u001b[0mdict\u001b[0m\u001b[0;34m)\u001b[0m \u001b[0;32mand\u001b[0m \u001b[0mresponse\u001b[0m\u001b[0;34m[\u001b[0m\u001b[0;34m'error'\u001b[0m\u001b[0;34m]\u001b[0m\u001b[0;34m.\u001b[0m\u001b[0mget\u001b[0m\u001b[0;34m(\u001b[0m\u001b[0;34m'message'\u001b[0m\u001b[0;34m)\u001b[0m\u001b[0;34m:\u001b[0m\u001b[0;34m\u001b[0m\u001b[0;34m\u001b[0m\u001b[0m\n\u001b[0;32m--> 561\u001b[0;31m         \u001b[0;32mraise\u001b[0m \u001b[0mContractLogicError\u001b[0m\u001b[0;34m(\u001b[0m\u001b[0;34mf'execution reverted: {response[\"error\"][\"message\"]}'\u001b[0m\u001b[0;34m)\u001b[0m\u001b[0;34m\u001b[0m\u001b[0;34m\u001b[0m\u001b[0m\n\u001b[0m\u001b[1;32m    562\u001b[0m \u001b[0;34m\u001b[0m\u001b[0m\n\u001b[1;32m    563\u001b[0m     \u001b[0;31m# Parity/OpenEthereum case:\u001b[0m\u001b[0;34m\u001b[0m\u001b[0;34m\u001b[0m\u001b[0;34m\u001b[0m\u001b[0m\n",
      "\u001b[0;31mContractLogicError\u001b[0m: execution reverted: VM Exception while processing transaction: revert"
     ]
    }
   ],
   "source": [
    "#transactionTest = {'senderAddress':w3.eth.accounts[0], 'receiverAddress':w3.eth.accounts[1], 'amount':250, 'transactionTime': 1649505951, 'transactionChallenge':HexBytes(0), 'verified': False};\n",
    "#senderAccount = {'accountAddress':w3.eth.accounts[0], 'isRegistered':True, 'currentBalance':2000000000,  'latestVerifiedBlockNumber':0, 'latestVerifiedTime':1649505949, 'registrationChallenge':HexBytes(0), 'registeredPublicKey': HexBytes(0), 'keyHandle':HexBytes(0), '_delayedTransactions':[]}\n",
    "#receiverAccount = {'accountAddress':w3.eth.accounts[1], 'isRegistered':True, 'currentBalance':2000000000,  'latestVerifiedBlockNumber':0, 'latestVerifiedTime':1649505949, 'registrationChallenge':HexBytes(0), 'registeredPublicKey': HexBytes(0), 'keyHandle':HexBytes(0), '_delayedTransactions':''}\n",
    "transactionTest = (w3.eth.accounts[0], w3.eth.accounts[1], 250,  1649505951, HexBytes(0), False);\n",
    "senderAccount = (w3.eth.accounts[0], True,2000000000, 0, 1649505949,5,HexBytes(0), HexBytes(0),HexBytes(0), [])\n",
    "receiverAccount  = (w3.eth.accounts[1], True,2000000000, 0, 1649505949,5,HexBytes(0), HexBytes(0),HexBytes(0), [])\n",
    "print(risky_transaction_detector.functions.checkSecurity(senderAccount, receiverAccount, transactionTest).call())"
   ]
  },
  {
   "cell_type": "code",
   "execution_count": null,
   "metadata": {},
   "outputs": [],
   "source": []
  },
  {
   "cell_type": "code",
   "execution_count": null,
   "metadata": {},
   "outputs": [],
   "source": []
  },
  {
   "cell_type": "code",
   "execution_count": null,
   "metadata": {},
   "outputs": [],
   "source": []
  },
  {
   "cell_type": "code",
   "execution_count": null,
   "metadata": {},
   "outputs": [],
   "source": []
  },
  {
   "cell_type": "code",
   "execution_count": null,
   "metadata": {},
   "outputs": [],
   "source": []
  }
 ],
 "metadata": {
  "kernelspec": {
   "display_name": "Python 3",
   "language": "python",
   "name": "python3"
  },
  "language_info": {
   "codemirror_mode": {
    "name": "ipython",
    "version": 3
   },
   "file_extension": ".py",
   "mimetype": "text/x-python",
   "name": "python",
   "nbconvert_exporter": "python",
   "pygments_lexer": "ipython3",
   "version": "3.7.6"
  }
 },
 "nbformat": 4,
 "nbformat_minor": 4
}
